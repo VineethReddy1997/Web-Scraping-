{
 "cells": [
  {
   "cell_type": "markdown",
   "id": "fd5bc7c3",
   "metadata": {},
   "source": [
    "## Web Scrapping "
   ]
  },
  {
   "cell_type": "markdown",
   "id": "6ffbdd95",
   "metadata": {},
   "source": [
    "### Assignment - 2\n",
    "* Write a python program for web scraping from website.\n",
    "* Input value is web url = Flipkart.com\n",
    "* Desired Output - Generate an excel file (.xlsx) file via the given web url with the following as columns - Product's Name and Price"
   ]
  },
  {
   "cell_type": "markdown",
   "id": "feb9b30e",
   "metadata": {},
   "source": [
    "### import Libraries"
   ]
  },
  {
   "cell_type": "code",
   "execution_count": null,
   "id": "99d610c4",
   "metadata": {},
   "outputs": [],
   "source": [
    "import requests\n",
    "from bs4 import BeautifulSoup\n",
    "import pandas as pd"
   ]
  },
  {
   "cell_type": "markdown",
   "id": "31083f4f",
   "metadata": {},
   "source": [
    "### processing the web scraping"
   ]
  },
  {
   "cell_type": "code",
   "execution_count": null,
   "id": "e875d3ef",
   "metadata": {},
   "outputs": [],
   "source": [
    "### creting the declarations to store the output\n",
    "phone_name =[]\n",
    "phone_price = []\n",
    "phone_rating = []\n",
    "\n",
    "### creating the input and  for loop for looping the  pages in website from dynamically\n",
    "page_num = int(input('Enter number of pages '))  \n",
    "for i in range(1,(page_num)+1):\n",
    "    \n",
    "    ### copying the url from website\n",
    "    url = 'https://www.flipkart.com/search?q=mobiles&otracker=search&otracker1=search&marketplace=FLIPKART&as-show=on&as=off&as-pos=1&as-type=HISTORY&page=1'+str(i)\n",
    "    ## request to server \n",
    "    req = requests.get(url)\n",
    "    ### parse the content into html\n",
    "    content = BeautifulSoup(req.content,\"html.parser\")\n",
    "    \n",
    "    ###### Inspect the Page () \n",
    "    name = content.find_all(\"div\",{'class':'_4rR01T'})  #product name\n",
    "    price = content.find_all(\"div\",{'class':'_30jeq3 _1_WHN1'}) # product price\n",
    "    print('phones in page'+str(i))    ## phones in a page \n",
    "    print(len(name))    # len of page \n",
    "    \n",
    "    for i in name:\n",
    "        phone_name.append(i.text)   # append the phone names as text form\n",
    "    for i in price:\n",
    "        phone_price.append(i.text)    # append the phone prices as text form"
   ]
  },
  {
   "cell_type": "code",
   "execution_count": null,
   "id": "5c35617a",
   "metadata": {},
   "outputs": [],
   "source": [
    "# for i in phone_price:\n",
    "#     print(i)"
   ]
  },
  {
   "cell_type": "markdown",
   "id": "3276cd6a",
   "metadata": {},
   "source": [
    "### Creating Dataframe by Using Pandas"
   ]
  },
  {
   "cell_type": "code",
   "execution_count": null,
   "id": "c483f26b",
   "metadata": {},
   "outputs": [],
   "source": [
    "## using pandas libraries for creating dataframe \n",
    "\n",
    "mobile_data = {'phone name': phone_name,'phone price': phone_price}\n",
    "mobiles_data = pd.DataFrame(mobile_data)"
   ]
  },
  {
   "cell_type": "code",
   "execution_count": null,
   "id": "aac6bb88",
   "metadata": {},
   "outputs": [],
   "source": [
    "mobiles_data"
   ]
  },
  {
   "cell_type": "markdown",
   "id": "da267103",
   "metadata": {},
   "source": [
    "###  save data in excel file"
   ]
  },
  {
   "cell_type": "code",
   "execution_count": null,
   "id": "a63ea9ba",
   "metadata": {},
   "outputs": [],
   "source": [
    "# mobiles data convert to  excel file \n",
    "mobiles_data.to_excel('mobile data in flipkart.xlsx')"
   ]
  },
  {
   "cell_type": "code",
   "execution_count": null,
   "id": "ec5bdc79",
   "metadata": {},
   "outputs": [],
   "source": []
  },
  {
   "cell_type": "code",
   "execution_count": null,
   "id": "0b7b9993",
   "metadata": {},
   "outputs": [],
   "source": []
  }
 ],
 "metadata": {
  "kernelspec": {
   "display_name": "Python 3",
   "language": "python",
   "name": "python3"
  },
  "language_info": {
   "codemirror_mode": {
    "name": "ipython",
    "version": 3
   },
   "file_extension": ".py",
   "mimetype": "text/x-python",
   "name": "python",
   "nbconvert_exporter": "python",
   "pygments_lexer": "ipython3",
   "version": "3.8.8"
  }
 },
 "nbformat": 4,
 "nbformat_minor": 5
}
